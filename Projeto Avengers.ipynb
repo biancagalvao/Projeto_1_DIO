{
 "cells": [
  {
   "cell_type": "markdown",
   "id": "3fc6ff70",
   "metadata": {},
   "source": [
    "### Análise de dados com Python e Pandas\n",
    "#### Projeto integrante da trilha Carrefour Data Engineer - Bootcamp da Digital Inovation One, como uma das condições de finalização.\n",
    "\n",
    "Objetivo: Demonstração de conhecimentos básicos de análise de dados com uso de Python e as bibliotecas necessárias."
   ]
  },
  {
   "cell_type": "code",
   "execution_count": 1,
   "id": "2f4c93a2",
   "metadata": {},
   "outputs": [],
   "source": [
    "#importando as bibliotecas necessárias\n",
    "import pandas as pd\n",
    "import matplotlib.pyplot as plt"
   ]
  },
  {
   "cell_type": "code",
   "execution_count": 2,
   "id": "78528b75",
   "metadata": {},
   "outputs": [],
   "source": [
    "#criando o dataframe a ser explorado\n",
    "df = pd.read_csv(\"avengers.csv\")"
   ]
  },
  {
   "cell_type": "code",
   "execution_count": 3,
   "id": "084c5755",
   "metadata": {},
   "outputs": [
    {
     "data": {
      "text/html": [
       "<div>\n",
       "<style scoped>\n",
       "    .dataframe tbody tr th:only-of-type {\n",
       "        vertical-align: middle;\n",
       "    }\n",
       "\n",
       "    .dataframe tbody tr th {\n",
       "        vertical-align: top;\n",
       "    }\n",
       "\n",
       "    .dataframe thead th {\n",
       "        text-align: right;\n",
       "    }\n",
       "</style>\n",
       "<table border=\"1\" class=\"dataframe\">\n",
       "  <thead>\n",
       "    <tr style=\"text-align: right;\">\n",
       "      <th></th>\n",
       "      <th>URL</th>\n",
       "      <th>Name/Alias</th>\n",
       "      <th>Appearances</th>\n",
       "      <th>Current?</th>\n",
       "      <th>Gender</th>\n",
       "      <th>Probationary Introl</th>\n",
       "      <th>Full/Reserve Avengers Intro</th>\n",
       "      <th>Year</th>\n",
       "      <th>Years since joining</th>\n",
       "      <th>Honorary</th>\n",
       "      <th>...</th>\n",
       "      <th>Return1</th>\n",
       "      <th>Death2</th>\n",
       "      <th>Return2</th>\n",
       "      <th>Death3</th>\n",
       "      <th>Return3</th>\n",
       "      <th>Death4</th>\n",
       "      <th>Return4</th>\n",
       "      <th>Death5</th>\n",
       "      <th>Return5</th>\n",
       "      <th>Notes</th>\n",
       "    </tr>\n",
       "  </thead>\n",
       "  <tbody>\n",
       "    <tr>\n",
       "      <th>0</th>\n",
       "      <td>http://marvel.wikia.com/Henry_Pym_(Earth-616)</td>\n",
       "      <td>Henry Jonathan \"Hank\" Pym</td>\n",
       "      <td>1269</td>\n",
       "      <td>YES</td>\n",
       "      <td>MALE</td>\n",
       "      <td>NaN</td>\n",
       "      <td>Sep-63</td>\n",
       "      <td>1963</td>\n",
       "      <td>52</td>\n",
       "      <td>Full</td>\n",
       "      <td>...</td>\n",
       "      <td>NO</td>\n",
       "      <td>NaN</td>\n",
       "      <td>NaN</td>\n",
       "      <td>NaN</td>\n",
       "      <td>NaN</td>\n",
       "      <td>NaN</td>\n",
       "      <td>NaN</td>\n",
       "      <td>NaN</td>\n",
       "      <td>NaN</td>\n",
       "      <td>Merged with Ultron in Rage of Ultron Vol. 1. A...</td>\n",
       "    </tr>\n",
       "    <tr>\n",
       "      <th>1</th>\n",
       "      <td>http://marvel.wikia.com/Janet_van_Dyne_(Earth-...</td>\n",
       "      <td>Janet van Dyne</td>\n",
       "      <td>1165</td>\n",
       "      <td>YES</td>\n",
       "      <td>FEMALE</td>\n",
       "      <td>NaN</td>\n",
       "      <td>Sep-63</td>\n",
       "      <td>1963</td>\n",
       "      <td>52</td>\n",
       "      <td>Full</td>\n",
       "      <td>...</td>\n",
       "      <td>YES</td>\n",
       "      <td>NaN</td>\n",
       "      <td>NaN</td>\n",
       "      <td>NaN</td>\n",
       "      <td>NaN</td>\n",
       "      <td>NaN</td>\n",
       "      <td>NaN</td>\n",
       "      <td>NaN</td>\n",
       "      <td>NaN</td>\n",
       "      <td>Dies in Secret Invasion V1:I8. Actually was se...</td>\n",
       "    </tr>\n",
       "    <tr>\n",
       "      <th>2</th>\n",
       "      <td>http://marvel.wikia.com/Anthony_Stark_(Earth-616)</td>\n",
       "      <td>Anthony Edward \"Tony\" Stark</td>\n",
       "      <td>3068</td>\n",
       "      <td>YES</td>\n",
       "      <td>MALE</td>\n",
       "      <td>NaN</td>\n",
       "      <td>Sep-63</td>\n",
       "      <td>1963</td>\n",
       "      <td>52</td>\n",
       "      <td>Full</td>\n",
       "      <td>...</td>\n",
       "      <td>YES</td>\n",
       "      <td>NaN</td>\n",
       "      <td>NaN</td>\n",
       "      <td>NaN</td>\n",
       "      <td>NaN</td>\n",
       "      <td>NaN</td>\n",
       "      <td>NaN</td>\n",
       "      <td>NaN</td>\n",
       "      <td>NaN</td>\n",
       "      <td>Death: \"Later while under the influence of Imm...</td>\n",
       "    </tr>\n",
       "    <tr>\n",
       "      <th>3</th>\n",
       "      <td>http://marvel.wikia.com/Robert_Bruce_Banner_(E...</td>\n",
       "      <td>Robert Bruce Banner</td>\n",
       "      <td>2089</td>\n",
       "      <td>YES</td>\n",
       "      <td>MALE</td>\n",
       "      <td>NaN</td>\n",
       "      <td>Sep-63</td>\n",
       "      <td>1963</td>\n",
       "      <td>52</td>\n",
       "      <td>Full</td>\n",
       "      <td>...</td>\n",
       "      <td>YES</td>\n",
       "      <td>NaN</td>\n",
       "      <td>NaN</td>\n",
       "      <td>NaN</td>\n",
       "      <td>NaN</td>\n",
       "      <td>NaN</td>\n",
       "      <td>NaN</td>\n",
       "      <td>NaN</td>\n",
       "      <td>NaN</td>\n",
       "      <td>Dies in Ghosts of the Future arc. However \"he ...</td>\n",
       "    </tr>\n",
       "    <tr>\n",
       "      <th>4</th>\n",
       "      <td>http://marvel.wikia.com/Thor_Odinson_(Earth-616)</td>\n",
       "      <td>Thor Odinson</td>\n",
       "      <td>2402</td>\n",
       "      <td>YES</td>\n",
       "      <td>MALE</td>\n",
       "      <td>NaN</td>\n",
       "      <td>Sep-63</td>\n",
       "      <td>1963</td>\n",
       "      <td>52</td>\n",
       "      <td>Full</td>\n",
       "      <td>...</td>\n",
       "      <td>YES</td>\n",
       "      <td>YES</td>\n",
       "      <td>NO</td>\n",
       "      <td>NaN</td>\n",
       "      <td>NaN</td>\n",
       "      <td>NaN</td>\n",
       "      <td>NaN</td>\n",
       "      <td>NaN</td>\n",
       "      <td>NaN</td>\n",
       "      <td>Dies in Fear Itself brought back because that'...</td>\n",
       "    </tr>\n",
       "  </tbody>\n",
       "</table>\n",
       "<p>5 rows × 21 columns</p>\n",
       "</div>"
      ],
      "text/plain": [
       "                                                 URL  \\\n",
       "0      http://marvel.wikia.com/Henry_Pym_(Earth-616)   \n",
       "1  http://marvel.wikia.com/Janet_van_Dyne_(Earth-...   \n",
       "2  http://marvel.wikia.com/Anthony_Stark_(Earth-616)   \n",
       "3  http://marvel.wikia.com/Robert_Bruce_Banner_(E...   \n",
       "4   http://marvel.wikia.com/Thor_Odinson_(Earth-616)   \n",
       "\n",
       "                    Name/Alias  Appearances Current?  Gender  \\\n",
       "0    Henry Jonathan \"Hank\" Pym         1269      YES    MALE   \n",
       "1               Janet van Dyne         1165      YES  FEMALE   \n",
       "2  Anthony Edward \"Tony\" Stark         3068      YES    MALE   \n",
       "3          Robert Bruce Banner         2089      YES    MALE   \n",
       "4                 Thor Odinson         2402      YES    MALE   \n",
       "\n",
       "  Probationary Introl Full/Reserve Avengers Intro  Year  Years since joining  \\\n",
       "0                 NaN                      Sep-63  1963                   52   \n",
       "1                 NaN                      Sep-63  1963                   52   \n",
       "2                 NaN                      Sep-63  1963                   52   \n",
       "3                 NaN                      Sep-63  1963                   52   \n",
       "4                 NaN                      Sep-63  1963                   52   \n",
       "\n",
       "  Honorary  ... Return1 Death2 Return2 Death3 Return3 Death4 Return4 Death5  \\\n",
       "0     Full  ...      NO    NaN     NaN    NaN     NaN    NaN     NaN    NaN   \n",
       "1     Full  ...     YES    NaN     NaN    NaN     NaN    NaN     NaN    NaN   \n",
       "2     Full  ...     YES    NaN     NaN    NaN     NaN    NaN     NaN    NaN   \n",
       "3     Full  ...     YES    NaN     NaN    NaN     NaN    NaN     NaN    NaN   \n",
       "4     Full  ...     YES    YES      NO    NaN     NaN    NaN     NaN    NaN   \n",
       "\n",
       "  Return5                                              Notes  \n",
       "0     NaN  Merged with Ultron in Rage of Ultron Vol. 1. A...  \n",
       "1     NaN  Dies in Secret Invasion V1:I8. Actually was se...  \n",
       "2     NaN  Death: \"Later while under the influence of Imm...  \n",
       "3     NaN  Dies in Ghosts of the Future arc. However \"he ...  \n",
       "4     NaN  Dies in Fear Itself brought back because that'...  \n",
       "\n",
       "[5 rows x 21 columns]"
      ]
     },
     "execution_count": 3,
     "metadata": {},
     "output_type": "execute_result"
    }
   ],
   "source": [
    "#visualizando as 5 primeiras linhas\n",
    "df.head()"
   ]
  },
  {
   "cell_type": "code",
   "execution_count": 4,
   "id": "21f02636",
   "metadata": {},
   "outputs": [
    {
     "data": {
      "text/plain": [
       "(173, 21)"
      ]
     },
     "execution_count": 4,
     "metadata": {},
     "output_type": "execute_result"
    }
   ],
   "source": [
    "#conferindo as quantidades de linhas e colunas\n",
    "df.shape"
   ]
  },
  {
   "cell_type": "code",
   "execution_count": 5,
   "id": "567e8722",
   "metadata": {},
   "outputs": [
    {
     "data": {
      "text/plain": [
       "Index(['URL', 'Name/Alias', 'Appearances', 'Current?', 'Gender',\n",
       "       'Probationary Introl', 'Full/Reserve Avengers Intro', 'Year',\n",
       "       'Years since joining', 'Honorary', 'Death1', 'Return1', 'Death2',\n",
       "       'Return2', 'Death3', 'Return3', 'Death4', 'Return4', 'Death5',\n",
       "       'Return5', 'Notes'],\n",
       "      dtype='object')"
      ]
     },
     "execution_count": 5,
     "metadata": {},
     "output_type": "execute_result"
    }
   ],
   "source": [
    "#verificando se as colunas precisam ser renomeadas\n",
    "df.columns"
   ]
  },
  {
   "cell_type": "code",
   "execution_count": 6,
   "id": "08bcd172",
   "metadata": {},
   "outputs": [],
   "source": [
    "#renomeando as colunas\n",
    "df.rename(columns={\"Name/Alias\":\"Nome/Apelido\", \"Appearances\":\"Aparição\", \"Current?\":\"Ativo?\", \"Gender\":\"Sexo\", \"Probationary Introl\":\"Probabilidade\", \"Full/Reserve Avengers Intro\":\"Mês - membro oficial/reserva\", \"Year\":\"Ano - membro oficial/reserva\", \"Years since joining\":\"Tempo desde membro\", \"Honorary\":\"Status do herói\", \"Death1\":\"Morte1\", \"Return1\": \"Retorno1\", \"Death2\": \"Morte2\", \"Return2\": \"Retorno2\", \"Death3\": \"Morte3\", \"Return3\": \"Retorno3\", \"Death4\": \"Morte4\", \"Return4\": \"Retorno4\", \"Death5\": \"Morte5\", \"Return5\": \"Retorno5\", \"Notes\": \"Observações\"}, inplace=True)"
   ]
  },
  {
   "cell_type": "code",
   "execution_count": 7,
   "id": "19796ed1",
   "metadata": {},
   "outputs": [
    {
     "data": {
      "text/plain": [
       "URL                             object\n",
       "Nome/Apelido                    object\n",
       "Aparição                         int64\n",
       "Ativo?                          object\n",
       "Sexo                            object\n",
       "Probabilidade                   object\n",
       "Mês - membro oficial/reserva    object\n",
       "Ano - membro oficial/reserva     int64\n",
       "Tempo desde membro               int64\n",
       "Status do herói                 object\n",
       "Morte1                          object\n",
       "Retorno1                        object\n",
       "Morte2                          object\n",
       "Retorno2                        object\n",
       "Morte3                          object\n",
       "Retorno3                        object\n",
       "Morte4                          object\n",
       "Retorno4                        object\n",
       "Morte5                          object\n",
       "Retorno5                        object\n",
       "Observações                     object\n",
       "dtype: object"
      ]
     },
     "execution_count": 7,
     "metadata": {},
     "output_type": "execute_result"
    }
   ],
   "source": [
    "#verificando os tipos de dados\n",
    "df.dtypes"
   ]
  },
  {
   "cell_type": "code",
   "execution_count": 10,
   "id": "2c6c17f8",
   "metadata": {},
   "outputs": [
    {
     "data": {
      "text/plain": [
       "array(['Full', 'Honorary', 'Probationary', 'Academy'], dtype=object)"
      ]
     },
     "execution_count": 10,
     "metadata": {},
     "output_type": "execute_result"
    }
   ],
   "source": [
    "#Quais são os tipos de status que um herói pode ter?\n",
    "df[\"Status do herói\"].unique()"
   ]
  },
  {
   "cell_type": "code",
   "execution_count": 22,
   "id": "ce1e31e9",
   "metadata": {},
   "outputs": [
    {
     "data": {
      "text/html": [
       "<div>\n",
       "<style scoped>\n",
       "    .dataframe tbody tr th:only-of-type {\n",
       "        vertical-align: middle;\n",
       "    }\n",
       "\n",
       "    .dataframe tbody tr th {\n",
       "        vertical-align: top;\n",
       "    }\n",
       "\n",
       "    .dataframe thead th {\n",
       "        text-align: right;\n",
       "    }\n",
       "</style>\n",
       "<table border=\"1\" class=\"dataframe\">\n",
       "  <thead>\n",
       "    <tr style=\"text-align: right;\">\n",
       "      <th></th>\n",
       "      <th>URL</th>\n",
       "      <th>Nome/Apelido</th>\n",
       "      <th>Aparição</th>\n",
       "      <th>Ativo?</th>\n",
       "      <th>Sexo</th>\n",
       "      <th>Probabilidade</th>\n",
       "      <th>Mês - membro oficial/reserva</th>\n",
       "      <th>Ano - membro oficial/reserva</th>\n",
       "      <th>Tempo desde membro</th>\n",
       "      <th>Status do herói</th>\n",
       "      <th>...</th>\n",
       "      <th>Retorno1</th>\n",
       "      <th>Morte2</th>\n",
       "      <th>Retorno2</th>\n",
       "      <th>Morte3</th>\n",
       "      <th>Retorno3</th>\n",
       "      <th>Morte4</th>\n",
       "      <th>Retorno4</th>\n",
       "      <th>Morte5</th>\n",
       "      <th>Retorno5</th>\n",
       "      <th>Observações</th>\n",
       "    </tr>\n",
       "  </thead>\n",
       "  <tbody>\n",
       "    <tr>\n",
       "      <th>5</th>\n",
       "      <td>http://marvel.wikia.com/Richard_Jones_(Earth-616)</td>\n",
       "      <td>Richard Milhouse Jones</td>\n",
       "      <td>612</td>\n",
       "      <td>YES</td>\n",
       "      <td>MALE</td>\n",
       "      <td>NaN</td>\n",
       "      <td>Sep-63</td>\n",
       "      <td>1963</td>\n",
       "      <td>52</td>\n",
       "      <td>Honorary</td>\n",
       "      <td>...</td>\n",
       "      <td>NaN</td>\n",
       "      <td>NaN</td>\n",
       "      <td>NaN</td>\n",
       "      <td>NaN</td>\n",
       "      <td>NaN</td>\n",
       "      <td>NaN</td>\n",
       "      <td>NaN</td>\n",
       "      <td>NaN</td>\n",
       "      <td>NaN</td>\n",
       "      <td>NaN</td>\n",
       "    </tr>\n",
       "    <tr>\n",
       "      <th>23</th>\n",
       "      <td>http://marvel.wikia.com/Yondu_Udonta_(Earth-691)#</td>\n",
       "      <td>Yondu Udonta</td>\n",
       "      <td>109</td>\n",
       "      <td>NO</td>\n",
       "      <td>MALE</td>\n",
       "      <td>NaN</td>\n",
       "      <td>Feb-78</td>\n",
       "      <td>1978</td>\n",
       "      <td>37</td>\n",
       "      <td>Honorary</td>\n",
       "      <td>...</td>\n",
       "      <td>NaN</td>\n",
       "      <td>NaN</td>\n",
       "      <td>NaN</td>\n",
       "      <td>NaN</td>\n",
       "      <td>NaN</td>\n",
       "      <td>NaN</td>\n",
       "      <td>NaN</td>\n",
       "      <td>NaN</td>\n",
       "      <td>NaN</td>\n",
       "      <td>NaN</td>\n",
       "    </tr>\n",
       "    <tr>\n",
       "      <th>24</th>\n",
       "      <td>http://marvel.wikia.com/Martinex_T%27Naga_(Ear...</td>\n",
       "      <td>Martinex T'Naga</td>\n",
       "      <td>100</td>\n",
       "      <td>NO</td>\n",
       "      <td>MALE</td>\n",
       "      <td>NaN</td>\n",
       "      <td>Feb-78</td>\n",
       "      <td>1978</td>\n",
       "      <td>37</td>\n",
       "      <td>Honorary</td>\n",
       "      <td>...</td>\n",
       "      <td>NaN</td>\n",
       "      <td>NaN</td>\n",
       "      <td>NaN</td>\n",
       "      <td>NaN</td>\n",
       "      <td>NaN</td>\n",
       "      <td>NaN</td>\n",
       "      <td>NaN</td>\n",
       "      <td>NaN</td>\n",
       "      <td>NaN</td>\n",
       "      <td>NaN</td>\n",
       "    </tr>\n",
       "    <tr>\n",
       "      <th>25</th>\n",
       "      <td>http://marvel.wikia.com/Charlie-27_(Earth-691)#</td>\n",
       "      <td>Charlie-27</td>\n",
       "      <td>132</td>\n",
       "      <td>NO</td>\n",
       "      <td>MALE</td>\n",
       "      <td>NaN</td>\n",
       "      <td>Feb-78</td>\n",
       "      <td>1978</td>\n",
       "      <td>37</td>\n",
       "      <td>Honorary</td>\n",
       "      <td>...</td>\n",
       "      <td>NaN</td>\n",
       "      <td>NaN</td>\n",
       "      <td>NaN</td>\n",
       "      <td>NaN</td>\n",
       "      <td>NaN</td>\n",
       "      <td>NaN</td>\n",
       "      <td>NaN</td>\n",
       "      <td>NaN</td>\n",
       "      <td>NaN</td>\n",
       "      <td>NaN</td>\n",
       "    </tr>\n",
       "    <tr>\n",
       "      <th>26</th>\n",
       "      <td>http://marvel.wikia.com/Nicholette_Gold_(Earth...</td>\n",
       "      <td>Nicholette Gold</td>\n",
       "      <td>108</td>\n",
       "      <td>NO</td>\n",
       "      <td>FEMALE</td>\n",
       "      <td>NaN</td>\n",
       "      <td>Feb-78</td>\n",
       "      <td>1978</td>\n",
       "      <td>37</td>\n",
       "      <td>Honorary</td>\n",
       "      <td>...</td>\n",
       "      <td>NaN</td>\n",
       "      <td>NaN</td>\n",
       "      <td>NaN</td>\n",
       "      <td>NaN</td>\n",
       "      <td>NaN</td>\n",
       "      <td>NaN</td>\n",
       "      <td>NaN</td>\n",
       "      <td>NaN</td>\n",
       "      <td>NaN</td>\n",
       "      <td>NaN</td>\n",
       "    </tr>\n",
       "  </tbody>\n",
       "</table>\n",
       "<p>5 rows × 21 columns</p>\n",
       "</div>"
      ],
      "text/plain": [
       "                                                  URL            Nome/Apelido  \\\n",
       "5   http://marvel.wikia.com/Richard_Jones_(Earth-616)  Richard Milhouse Jones   \n",
       "23  http://marvel.wikia.com/Yondu_Udonta_(Earth-691)#            Yondu Udonta   \n",
       "24  http://marvel.wikia.com/Martinex_T%27Naga_(Ear...         Martinex T'Naga   \n",
       "25    http://marvel.wikia.com/Charlie-27_(Earth-691)#              Charlie-27   \n",
       "26  http://marvel.wikia.com/Nicholette_Gold_(Earth...         Nicholette Gold   \n",
       "\n",
       "    Aparição Ativo?    Sexo Probabilidade Mês - membro oficial/reserva  \\\n",
       "5        612    YES    MALE           NaN                       Sep-63   \n",
       "23       109     NO    MALE           NaN                       Feb-78   \n",
       "24       100     NO    MALE           NaN                       Feb-78   \n",
       "25       132     NO    MALE           NaN                       Feb-78   \n",
       "26       108     NO  FEMALE           NaN                       Feb-78   \n",
       "\n",
       "    Ano - membro oficial/reserva  Tempo desde membro Status do herói  ...  \\\n",
       "5                           1963                  52        Honorary  ...   \n",
       "23                          1978                  37        Honorary  ...   \n",
       "24                          1978                  37        Honorary  ...   \n",
       "25                          1978                  37        Honorary  ...   \n",
       "26                          1978                  37        Honorary  ...   \n",
       "\n",
       "   Retorno1 Morte2 Retorno2 Morte3 Retorno3 Morte4 Retorno4 Morte5 Retorno5  \\\n",
       "5       NaN    NaN      NaN    NaN      NaN    NaN      NaN    NaN      NaN   \n",
       "23      NaN    NaN      NaN    NaN      NaN    NaN      NaN    NaN      NaN   \n",
       "24      NaN    NaN      NaN    NaN      NaN    NaN      NaN    NaN      NaN   \n",
       "25      NaN    NaN      NaN    NaN      NaN    NaN      NaN    NaN      NaN   \n",
       "26      NaN    NaN      NaN    NaN      NaN    NaN      NaN    NaN      NaN   \n",
       "\n",
       "   Observações  \n",
       "5          NaN  \n",
       "23         NaN  \n",
       "24         NaN  \n",
       "25         NaN  \n",
       "26         NaN  \n",
       "\n",
       "[5 rows x 21 columns]"
      ]
     },
     "execution_count": 22,
     "metadata": {},
     "output_type": "execute_result"
    }
   ],
   "source": [
    "#Quais são os heróis honorários?\n",
    "heroi_honorario = df.loc[df[\"Status do herói\"] == \"Honorary\"]\n",
    "heroi_honorario.head()"
   ]
  },
  {
   "cell_type": "code",
   "execution_count": 14,
   "id": "182926ec",
   "metadata": {},
   "outputs": [
    {
     "data": {
      "text/plain": [
       "(16, 21)"
      ]
     },
     "execution_count": 14,
     "metadata": {},
     "output_type": "execute_result"
    }
   ],
   "source": [
    "#Quantos heróis honorários existem na lista?\n",
    "heroi_honorario.shape"
   ]
  },
  {
   "cell_type": "code",
   "execution_count": 19,
   "id": "973f03c3",
   "metadata": {},
   "outputs": [
    {
     "data": {
      "text/plain": [
       "Status do herói\n",
       "Academy          17\n",
       "Full            130\n",
       "Honorary         14\n",
       "Probationary      2\n",
       "Name: Nome/Apelido, dtype: int64"
      ]
     },
     "execution_count": 19,
     "metadata": {},
     "output_type": "execute_result"
    }
   ],
   "source": [
    "#Quantos heróis existem em cada tipo de status?\n",
    "df.groupby(\"Status do herói\")[\"Nome/Apelido\"].nunique()"
   ]
  },
  {
   "cell_type": "code",
   "execution_count": 50,
   "id": "9e1f2aa5",
   "metadata": {},
   "outputs": [
    {
     "data": {
      "image/png": "[encoded data removed]",
      "text/plain": [
       "<Figure size 432x288 with 1 Axes>"
      ]
     },
     "metadata": {
      "needs_background": "light"
     },
     "output_type": "display_data"
    }
   ],
   "source": [
    "#Gráfico de heróis por status:\n",
    "df[\"Status do herói\"].value_counts().plot.bar(title=\"Status dos heróis\", color=\"Red\")\n",
    "plt.xlabel(\"Status\")\n",
    "plt.ylabel(\"Total de heróis\");"
   ]
  },
  {
   "cell_type": "code",
   "execution_count": 62,
   "id": "843f04c6",
   "metadata": {},
   "outputs": [
    {
     "data": {
      "text/plain": [
       "1900"
      ]
     },
     "execution_count": 62,
     "metadata": {},
     "output_type": "execute_result"
    }
   ],
   "source": [
    "#Quando surgiu o primeiro membro oficial de heróis?\n",
    "df[\"Ano - membro oficial/reserva\"].min()"
   ]
  },
  {
   "cell_type": "code",
   "execution_count": 63,
   "id": "fbad4e8d",
   "metadata": {},
   "outputs": [
    {
     "data": {
      "text/html": [
       "<div>\n",
       "<style scoped>\n",
       "    .dataframe tbody tr th:only-of-type {\n",
       "        vertical-align: middle;\n",
       "    }\n",
       "\n",
       "    .dataframe tbody tr th {\n",
       "        vertical-align: top;\n",
       "    }\n",
       "\n",
       "    .dataframe thead th {\n",
       "        text-align: right;\n",
       "    }\n",
       "</style>\n",
       "<table border=\"1\" class=\"dataframe\">\n",
       "  <thead>\n",
       "    <tr style=\"text-align: right;\">\n",
       "      <th></th>\n",
       "      <th>Nome/Apelido</th>\n",
       "      <th>Ano - membro oficial/reserva</th>\n",
       "    </tr>\n",
       "  </thead>\n",
       "  <tbody>\n",
       "    <tr>\n",
       "      <th>75</th>\n",
       "      <td>Elvin Haliday</td>\n",
       "      <td>1900</td>\n",
       "    </tr>\n",
       "    <tr>\n",
       "      <th>76</th>\n",
       "      <td>William Baker</td>\n",
       "      <td>1900</td>\n",
       "    </tr>\n",
       "    <tr>\n",
       "      <th>122</th>\n",
       "      <td>James Santini</td>\n",
       "      <td>1900</td>\n",
       "    </tr>\n",
       "    <tr>\n",
       "      <th>123</th>\n",
       "      <td>Emery Schaub</td>\n",
       "      <td>1900</td>\n",
       "    </tr>\n",
       "    <tr>\n",
       "      <th>125</th>\n",
       "      <td>Fiona</td>\n",
       "      <td>1900</td>\n",
       "    </tr>\n",
       "    <tr>\n",
       "      <th>127</th>\n",
       "      <td>Yvette</td>\n",
       "      <td>1900</td>\n",
       "    </tr>\n",
       "    <tr>\n",
       "      <th>128</th>\n",
       "      <td>Julie Power</td>\n",
       "      <td>1900</td>\n",
       "    </tr>\n",
       "    <tr>\n",
       "      <th>129</th>\n",
       "      <td>Alani Ryan</td>\n",
       "      <td>1900</td>\n",
       "    </tr>\n",
       "    <tr>\n",
       "      <th>132</th>\n",
       "      <td>Johnny Gallo</td>\n",
       "      <td>1900</td>\n",
       "    </tr>\n",
       "    <tr>\n",
       "      <th>133</th>\n",
       "      <td>Lyra</td>\n",
       "      <td>1900</td>\n",
       "    </tr>\n",
       "    <tr>\n",
       "      <th>134</th>\n",
       "      <td>Anya Corazon</td>\n",
       "      <td>1900</td>\n",
       "    </tr>\n",
       "    <tr>\n",
       "      <th>136</th>\n",
       "      <td>Kevin Masterson</td>\n",
       "      <td>1900</td>\n",
       "    </tr>\n",
       "    <tr>\n",
       "      <th>137</th>\n",
       "      <td>Michiko Musashi</td>\n",
       "      <td>1900</td>\n",
       "    </tr>\n",
       "    <tr>\n",
       "      <th>138</th>\n",
       "      <td>Taki Matsuya</td>\n",
       "      <td>1900</td>\n",
       "    </tr>\n",
       "  </tbody>\n",
       "</table>\n",
       "</div>"
      ],
      "text/plain": [
       "        Nome/Apelido  Ano - membro oficial/reserva\n",
       "75     Elvin Haliday                          1900\n",
       "76     William Baker                          1900\n",
       "122    James Santini                          1900\n",
       "123     Emery Schaub                          1900\n",
       "125            Fiona                          1900\n",
       "127           Yvette                          1900\n",
       "128      Julie Power                          1900\n",
       "129       Alani Ryan                          1900\n",
       "132     Johnny Gallo                          1900\n",
       "133             Lyra                          1900\n",
       "134     Anya Corazon                          1900\n",
       "136  Kevin Masterson                          1900\n",
       "137  Michiko Musashi                          1900\n",
       "138     Taki Matsuya                          1900"
      ]
     },
     "execution_count": 63,
     "metadata": {},
     "output_type": "execute_result"
    }
   ],
   "source": [
    "#Quais foram os primeiros heróis documentados?\n",
    "filtro = df[\"Ano - membro oficial/reserva\"] == 1900\n",
    "df.loc[filtro, ['Nome/Apelido', 'Ano - membro oficial/reserva']]"
   ]
  },
  {
   "cell_type": "code",
   "execution_count": 27,
   "id": "18095e2d",
   "metadata": {},
   "outputs": [
    {
     "data": {
      "text/plain": [
       "2015"
      ]
     },
     "execution_count": 27,
     "metadata": {},
     "output_type": "execute_result"
    }
   ],
   "source": [
    "#Quando surgiu o último membro documentado na lista?\n",
    "df[\"Ano - membro oficial/reserva\"].max()"
   ]
  },
  {
   "cell_type": "code",
   "execution_count": 64,
   "id": "bd1e227a",
   "metadata": {},
   "outputs": [
    {
     "data": {
      "text/html": [
       "<div>\n",
       "<style scoped>\n",
       "    .dataframe tbody tr th:only-of-type {\n",
       "        vertical-align: middle;\n",
       "    }\n",
       "\n",
       "    .dataframe tbody tr th {\n",
       "        vertical-align: top;\n",
       "    }\n",
       "\n",
       "    .dataframe thead th {\n",
       "        text-align: right;\n",
       "    }\n",
       "</style>\n",
       "<table border=\"1\" class=\"dataframe\">\n",
       "  <thead>\n",
       "    <tr style=\"text-align: right;\">\n",
       "      <th></th>\n",
       "      <th>Nome/Apelido</th>\n",
       "      <th>Ano - membro oficial/reserva</th>\n",
       "    </tr>\n",
       "  </thead>\n",
       "  <tbody>\n",
       "    <tr>\n",
       "      <th>157</th>\n",
       "      <td>Sam Alexander</td>\n",
       "      <td>2015</td>\n",
       "    </tr>\n",
       "    <tr>\n",
       "      <th>172</th>\n",
       "      <td>Kaluu</td>\n",
       "      <td>2015</td>\n",
       "    </tr>\n",
       "  </tbody>\n",
       "</table>\n",
       "</div>"
      ],
      "text/plain": [
       "      Nome/Apelido  Ano - membro oficial/reserva\n",
       "157  Sam Alexander                          2015\n",
       "172          Kaluu                          2015"
      ]
     },
     "execution_count": 64,
     "metadata": {},
     "output_type": "execute_result"
    }
   ],
   "source": [
    "#Quais foram os últimos heróis documentados?\n",
    "filtro = df[\"Ano - membro oficial/reserva\"] == 2015\n",
    "df.loc[filtro, ['Nome/Apelido', 'Ano - membro oficial/reserva']]"
   ]
  },
  {
   "cell_type": "code",
   "execution_count": 32,
   "id": "64bf1eff",
   "metadata": {},
   "outputs": [
    {
     "data": {
      "text/plain": [
       "MALE      115\n",
       "FEMALE     58\n",
       "Name: Sexo, dtype: int64"
      ]
     },
     "execution_count": 32,
     "metadata": {},
     "output_type": "execute_result"
    }
   ],
   "source": [
    "#Quantos heróis homens e mulheres existem documentados?\n",
    "df[\"Sexo\"].value_counts()"
   ]
  },
  {
   "cell_type": "code",
   "execution_count": 45,
   "id": "78a06953",
   "metadata": {},
   "outputs": [
    {
     "data": {
      "image/png": "[encoded data removed]",
      "text/plain": [
       "<Figure size 432x288 with 1 Axes>"
      ]
     },
     "metadata": {},
     "output_type": "display_data"
    }
   ],
   "source": [
    "#Gráfico de heróis dividido por sexo:\n",
    "df[\"Sexo\"].value_counts().plot.pie(title=\"Total de heróis por sexo\");"
   ]
  },
  {
   "cell_type": "code",
   "execution_count": 53,
   "id": "93e23996",
   "metadata": {},
   "outputs": [
    {
     "data": {
      "text/plain": [
       "Ativo?\n",
       "NO     84\n",
       "YES    78\n",
       "Name: Nome/Apelido, dtype: int64"
      ]
     },
     "execution_count": 53,
     "metadata": {},
     "output_type": "execute_result"
    }
   ],
   "source": [
    "#Quantos heróis ainda estão ativos?\n",
    "df.groupby(\"Ativo?\")[\"Nome/Apelido\"].nunique()"
   ]
  },
  {
   "cell_type": "code",
   "execution_count": 66,
   "id": "97de84ee",
   "metadata": {},
   "outputs": [
    {
     "data": {
      "image/png": "[encoded data removed]",
      "text/plain": [
       "<Figure size 432x288 with 1 Axes>"
      ]
     },
     "metadata": {
      "needs_background": "light"
     },
     "output_type": "display_data"
    }
   ],
   "source": [
    "#Gráfico de atividade:\n",
    "df[\"Ativo?\"].value_counts(ascending=True).plot.barh(color=\"Purple\");"
   ]
  },
  {
   "cell_type": "code",
   "execution_count": null,
   "id": "d620a06d",
   "metadata": {},
   "outputs": [],
   "source": []
  },
  {
   "cell_type": "code",
   "execution_count": null,
   "id": "b5e87b9e",
   "metadata": {},
   "outputs": [],
   "source": []
  }
 ],
 "metadata": {
  "kernelspec": {
   "display_name": "Python 3",
   "language": "python",
   "name": "python3"
  },
  "language_info": {
   "codemirror_mode": {
    "name": "ipython",
    "version": 3
   },
   "file_extension": ".py",
   "mimetype": "text/x-python",
   "name": "python",
   "nbconvert_exporter": "python",
   "pygments_lexer": "ipython3",
   "version": "3.8.8"
  }
 },
 "nbformat": 4,
 "nbformat_minor": 5
}
